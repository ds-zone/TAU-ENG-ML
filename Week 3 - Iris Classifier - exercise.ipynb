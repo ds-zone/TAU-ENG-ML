{
 "cells": [
  {
   "cell_type": "markdown",
   "metadata": {},
   "source": [
    "# 1. Import Iris dataset"
   ]
  },
  {
   "cell_type": "markdown",
   "metadata": {},
   "source": [
    "The iris dataset is widely used for learning and is a bulit-in dataset in scikit-learn.\n",
    "\n",
    "It can be fetched within one line of code. See below..."
   ]
  },
  {
   "cell_type": "code",
   "execution_count": null,
   "metadata": {
    "collapsed": true
   },
   "outputs": [],
   "source": [
    "from sklearn import datasets\n",
    "iris = datasets.load_iris()\n",
    "\n",
    "print(iris.DESCR)"
   ]
  },
  {
   "cell_type": "markdown",
   "metadata": {},
   "source": [
    "Now we will create two new variable. One for the feature set and second to hold the labels.\n",
    "\n",
    "##### X is the feature set. Its columns represent:\n",
    "    (1) Sepal Length, (2) Sepal Width, (3) Petal Length and (4) Petal Width\n",
    "    \n",
    "##### y is a vector that holds the labels of each row in the feature set X. Its values are:\n",
    "    (1) Setosa, (2) Versicolour, and (3) Virginica"
   ]
  },
  {
   "cell_type": "code",
   "execution_count": null,
   "metadata": {
    "collapsed": true
   },
   "outputs": [],
   "source": [
    "X = iris.data\n",
    "y = iris.target\n",
    "\n",
    "print(\"X size:\", X.shape)\n",
    "print(\"y size:\", y.shape)"
   ]
  },
  {
   "cell_type": "markdown",
   "metadata": {},
   "source": [
    "# 2. Predit Irit Type using a Logistic Regression model\n",
    "There is a missing piece of code below. To run a logistic regression model, you need to find a way to create a logistic regression model. Notice, this is not a binary problem, there are three different classes! Try to search in google for 'scikit learn logistic regression multiclass'. It will direct you to scikit-learn documentation.\n",
    "\n",
    "Notice, there are four things you need to take from the example code you find.\n",
    "1. An '*import*' command for the logistic regression module.\n",
    "2. A variable to hold the model.\n",
    "3. A '*fit*' function to train the model.\n",
    "4. A '*predict*' function to predict the values given a feature set."
   ]
  },
  {
   "cell_type": "code",
   "execution_count": null,
   "metadata": {
    "collapsed": true
   },
   "outputs": [],
   "source": [
    "# Add your code here to create a new logistic regression model and to train it\n",
    "\n",
    "#Enter your code here#"
   ]
  },
  {
   "cell_type": "code",
   "execution_count": null,
   "metadata": {
    "collapsed": true
   },
   "outputs": [],
   "source": [
    "# Add your code here for your model predictions\n",
    "\n",
    "y_predicted_log = #Enter your predict function here#\n",
    "y_predicted_log"
   ]
  },
  {
   "cell_type": "markdown",
   "metadata": {},
   "source": [
    "Print the real values."
   ]
  },
  {
   "cell_type": "code",
   "execution_count": null,
   "metadata": {
    "collapsed": true
   },
   "outputs": [],
   "source": [
    "y"
   ]
  },
  {
   "cell_type": "markdown",
   "metadata": {},
   "source": [
    "Now let's compare our predictions to the real values. If the predictions are good you should get a lot of zeros below. A value that is different than zero means you predicted the wrong class."
   ]
  },
  {
   "cell_type": "code",
   "execution_count": null,
   "metadata": {
    "collapsed": true
   },
   "outputs": [],
   "source": [
    "y_predicted_log-y"
   ]
  },
  {
   "cell_type": "markdown",
   "metadata": {},
   "source": [
    "# 3. Predit Irit Type using a Decision Tree"
   ]
  },
  {
   "cell_type": "markdown",
   "metadata": {},
   "source": [
    "### Train a decision tree classifier"
   ]
  },
  {
   "cell_type": "code",
   "execution_count": null,
   "metadata": {
    "collapsed": true
   },
   "outputs": [],
   "source": [
    "from sklearn import tree\n",
    "dt = tree.DecisionTreeClassifier()\n",
    "dt = dt.fit(X, y)"
   ]
  },
  {
   "cell_type": "markdown",
   "metadata": {},
   "source": [
    "### Visualize the tree you have trained :-)\n",
    "If you are using Jupyter binder remote server - you will not be able to run this section. Continue to work on the next section.\n",
    "\n",
    "If you are running a local version of jupyter you will have to install now graphviz. Instructions:\n",
    "1. Open a cmd window\n",
    "2. Run the following code:\n",
    "        conda install python-graphviz\n",
    "3. If during the installation you have been asked if you are willing to process, then choose 'yes'."
   ]
  },
  {
   "cell_type": "code",
   "execution_count": null,
   "metadata": {
    "collapsed": true
   },
   "outputs": [],
   "source": [
    "import graphviz\n",
    "dot_data = tree.export_graphviz(dt, out_file=None, \n",
    "    feature_names=iris.feature_names,  \n",
    "    class_names=iris.target_names,  \n",
    "    filled=True, rounded=True,  \n",
    "    special_characters=True)  \n",
    "graph = graphviz.Source(dot_data)\n",
    "graph"
   ]
  },
  {
   "cell_type": "markdown",
   "metadata": {},
   "source": [
    "Notes regarding the visualization above:\n",
    "1. You can see that the tree above is developed to the end without pruning. Meaning, in each leaf there is only one type of class.\n",
    "2. If you are wondering what is it 'gini' - it is related to the splitting cretiria quality. Google for more info."
   ]
  },
  {
   "cell_type": "markdown",
   "metadata": {},
   "source": [
    "### Check the rusults\n",
    "Calculate the predicted values.\n",
    "Before running it think:\n",
    "1. What are you expect to see in the output window?\n",
    "2. Do you think you will get good results?"
   ]
  },
  {
   "cell_type": "code",
   "execution_count": null,
   "metadata": {
    "collapsed": true
   },
   "outputs": [],
   "source": [
    "y_predicted_tree = # Add code here to predict y\n",
    "y_predicted_tree"
   ]
  },
  {
   "cell_type": "markdown",
   "metadata": {},
   "source": [
    "If your predictions are good you should get a lot of zeros below."
   ]
  },
  {
   "cell_type": "code",
   "execution_count": null,
   "metadata": {
    "collapsed": true
   },
   "outputs": [],
   "source": [
    "y_predicted_tree - y"
   ]
  }
 ],
 "metadata": {
  "kernelspec": {
   "display_name": "Python 3",
   "language": "python",
   "name": "python3"
  },
  "language_info": {
   "codemirror_mode": {
    "name": "ipython",
    "version": 3
   },
   "file_extension": ".py",
   "mimetype": "text/x-python",
   "name": "python",
   "nbconvert_exporter": "python",
   "pygments_lexer": "ipython3",
   "version": "3.6.3"
  }
 },
 "nbformat": 4,
 "nbformat_minor": 2
}
